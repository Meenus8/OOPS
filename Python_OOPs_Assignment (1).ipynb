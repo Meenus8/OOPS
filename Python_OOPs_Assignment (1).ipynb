{
 "cells": [
  {
   "cell_type": "markdown",
   "id": "96a8b1f3",
   "metadata": {},
   "source": [
    "# Python OOPs Assignment\n",
    "This notebook contains theory and practical questions with answers based on Python Object-Oriented Programming (OOP)."
   ]
  },
  {
   "cell_type": "code",
   "execution_count": null,
   "id": "4daf4b43",
   "metadata": {},
   "outputs": [],
   "source": [
    "# Run this cell to confirm Python version\n",
    "!python --version"
   ]
  },
  {
   "cell_type": "markdown",
   "id": "3c26aee5",
   "metadata": {},
   "source": [
    "## What is Object-Oriented Programming (OOP)?"
   ]
  },
  {
   "cell_type": "code",
   "execution_count": null,
   "id": "03c25f7c",
   "metadata": {},
   "outputs": [],
   "source": [
    "# Write your answer here\n"
   ]
  },
  {
   "cell_type": "markdown",
   "id": "0c4c6826",
   "metadata": {},
   "source": [
    "## What is a class in OOP?"
   ]
  },
  {
   "cell_type": "code",
   "execution_count": null,
   "id": "c66b7be0",
   "metadata": {},
   "outputs": [],
   "source": [
    "# Write your answer here\n"
   ]
  },
  {
   "cell_type": "markdown",
   "id": "61b22541",
   "metadata": {},
   "source": [
    "## What is an object in OOP?"
   ]
  },
  {
   "cell_type": "code",
   "execution_count": null,
   "id": "eef4f21a",
   "metadata": {},
   "outputs": [],
   "source": [
    "# Write your answer here\n"
   ]
  },
  {
   "cell_type": "markdown",
   "id": "f367aa2f",
   "metadata": {},
   "source": [
    "## What is the difference between abstraction and encapsulation?"
   ]
  },
  {
   "cell_type": "code",
   "execution_count": null,
   "id": "56c9a58e",
   "metadata": {},
   "outputs": [],
   "source": [
    "# Write your answer here\n"
   ]
  },
  {
   "cell_type": "markdown",
   "id": "16ea7c44",
   "metadata": {},
   "source": [
    "## What are dunder methods in Python?"
   ]
  },
  {
   "cell_type": "code",
   "execution_count": null,
   "id": "a1b162a1",
   "metadata": {},
   "outputs": [],
   "source": [
    "# Write your answer here\n"
   ]
  },
  {
   "cell_type": "markdown",
   "id": "8f2ab26e",
   "metadata": {},
   "source": [
    "## Explain the concept of inheritance in OOP."
   ]
  },
  {
   "cell_type": "code",
   "execution_count": null,
   "id": "7da7e442",
   "metadata": {},
   "outputs": [],
   "source": [
    "# Write your answer here\n"
   ]
  },
  {
   "cell_type": "markdown",
   "id": "a4cdb67b",
   "metadata": {},
   "source": [
    "## What is polymorphism in OOP?"
   ]
  },
  {
   "cell_type": "code",
   "execution_count": null,
   "id": "890831aa",
   "metadata": {},
   "outputs": [],
   "source": [
    "# Write your answer here\n"
   ]
  },
  {
   "cell_type": "markdown",
   "id": "9c6379ce",
   "metadata": {},
   "source": [
    "## How is encapsulation achieved in Python?"
   ]
  },
  {
   "cell_type": "code",
   "execution_count": null,
   "id": "331929f3",
   "metadata": {},
   "outputs": [],
   "source": [
    "# Write your answer here\n"
   ]
  },
  {
   "cell_type": "markdown",
   "id": "70e09488",
   "metadata": {},
   "source": [
    "## What is a constructor in Python?"
   ]
  },
  {
   "cell_type": "code",
   "execution_count": null,
   "id": "fb0a37f2",
   "metadata": {},
   "outputs": [],
   "source": [
    "# Write your answer here\n"
   ]
  },
  {
   "cell_type": "markdown",
   "id": "bded9d8c",
   "metadata": {},
   "source": [
    "## What are class and static methods in Python?"
   ]
  },
  {
   "cell_type": "code",
   "execution_count": null,
   "id": "6af63349",
   "metadata": {},
   "outputs": [],
   "source": [
    "# Write your answer here\n"
   ]
  },
  {
   "cell_type": "markdown",
   "id": "2f18d0b4",
   "metadata": {},
   "source": [
    "## What is method overloading in Python?"
   ]
  },
  {
   "cell_type": "code",
   "execution_count": null,
   "id": "9a9af85e",
   "metadata": {},
   "outputs": [],
   "source": [
    "# Write your answer here\n"
   ]
  },
  {
   "cell_type": "markdown",
   "id": "56f7e5b0",
   "metadata": {},
   "source": [
    "## What is method overriding in OOP?"
   ]
  },
  {
   "cell_type": "code",
   "execution_count": null,
   "id": "1a2c8e96",
   "metadata": {},
   "outputs": [],
   "source": [
    "# Write your answer here\n"
   ]
  },
  {
   "cell_type": "markdown",
   "id": "425985c6",
   "metadata": {},
   "source": [
    "## What is a property decorator in Python?"
   ]
  },
  {
   "cell_type": "code",
   "execution_count": null,
   "id": "b883949d",
   "metadata": {},
   "outputs": [],
   "source": [
    "# Write your answer here\n"
   ]
  },
  {
   "cell_type": "markdown",
   "id": "73af9cc6",
   "metadata": {},
   "source": [
    "## Why is polymorphism important in OOP?"
   ]
  },
  {
   "cell_type": "code",
   "execution_count": null,
   "id": "bd832919",
   "metadata": {},
   "outputs": [],
   "source": [
    "# Write your answer here\n"
   ]
  },
  {
   "cell_type": "markdown",
   "id": "f943ed8b",
   "metadata": {},
   "source": [
    "## What is an abstract class in Python?"
   ]
  },
  {
   "cell_type": "code",
   "execution_count": null,
   "id": "9edf49e7",
   "metadata": {},
   "outputs": [],
   "source": [
    "# Write your answer here\n"
   ]
  },
  {
   "cell_type": "markdown",
   "id": "e0817d39",
   "metadata": {},
   "source": [
    "## What are the advantages of OOP?"
   ]
  },
  {
   "cell_type": "code",
   "execution_count": null,
   "id": "3b93fd3f",
   "metadata": {},
   "outputs": [],
   "source": [
    "# Write your answer here\n"
   ]
  },
  {
   "cell_type": "markdown",
   "id": "b9cfc346",
   "metadata": {},
   "source": [
    "## What is the difference between a class variable and an instance variable?"
   ]
  },
  {
   "cell_type": "code",
   "execution_count": null,
   "id": "ac471faf",
   "metadata": {},
   "outputs": [],
   "source": [
    "# Write your answer here\n"
   ]
  },
  {
   "cell_type": "markdown",
   "id": "77a862c8",
   "metadata": {},
   "source": [
    "## What is multiple inheritance in Python?"
   ]
  },
  {
   "cell_type": "code",
   "execution_count": null,
   "id": "4952c4cb",
   "metadata": {},
   "outputs": [],
   "source": [
    "# Write your answer here\n"
   ]
  },
  {
   "cell_type": "markdown",
   "id": "263f9b06",
   "metadata": {},
   "source": [
    "## Explain the purpose of '__str__' and '__repr__' methods in Python."
   ]
  },
  {
   "cell_type": "code",
   "execution_count": null,
   "id": "24120e28",
   "metadata": {},
   "outputs": [],
   "source": [
    "# Write your answer here\n"
   ]
  },
  {
   "cell_type": "markdown",
   "id": "c355ce4b",
   "metadata": {},
   "source": [
    "## What is the significance of the 'super()' function in Python?"
   ]
  },
  {
   "cell_type": "code",
   "execution_count": null,
   "id": "a8c2a227",
   "metadata": {},
   "outputs": [],
   "source": [
    "# Write your answer here\n"
   ]
  },
  {
   "cell_type": "markdown",
   "id": "13b55afb",
   "metadata": {},
   "source": [
    "## What is the significance of the __del__ method in Python?"
   ]
  },
  {
   "cell_type": "code",
   "execution_count": null,
   "id": "22ae539c",
   "metadata": {},
   "outputs": [],
   "source": [
    "# Write your answer here\n"
   ]
  },
  {
   "cell_type": "markdown",
   "id": "7a6802e4",
   "metadata": {},
   "source": [
    "## What is the difference between @staticmethod and @classmethod in Python?"
   ]
  },
  {
   "cell_type": "code",
   "execution_count": null,
   "id": "38a4ebae",
   "metadata": {},
   "outputs": [],
   "source": [
    "# Write your answer here\n"
   ]
  },
  {
   "cell_type": "markdown",
   "id": "84ce2273",
   "metadata": {},
   "source": [
    "## How does polymorphism work in Python with inheritance?"
   ]
  },
  {
   "cell_type": "code",
   "execution_count": null,
   "id": "24155bda",
   "metadata": {},
   "outputs": [],
   "source": [
    "# Write your answer here\n"
   ]
  },
  {
   "cell_type": "markdown",
   "id": "b49048fb",
   "metadata": {},
   "source": [
    "## What is method chaining in Python OOP?"
   ]
  },
  {
   "cell_type": "code",
   "execution_count": null,
   "id": "e03702c2",
   "metadata": {},
   "outputs": [],
   "source": [
    "# Write your answer here\n"
   ]
  },
  {
   "cell_type": "markdown",
   "id": "470e24c5",
   "metadata": {},
   "source": [
    "## What is the purpose of the __call__ method in Python?"
   ]
  },
  {
   "cell_type": "code",
   "execution_count": null,
   "id": "c165ff20",
   "metadata": {},
   "outputs": [],
   "source": [
    "# Write your answer here\n"
   ]
  },
  {
   "cell_type": "markdown",
   "id": "a43f9862",
   "metadata": {},
   "source": [
    "## 1. Create a parent class Animal with a method speak(). Create a child class Dog that overrides speak()."
   ]
  },
  {
   "cell_type": "code",
   "execution_count": null,
   "id": "33cc29d2",
   "metadata": {},
   "outputs": [],
   "source": [
    "# Write your code here\n"
   ]
  },
  {
   "cell_type": "markdown",
   "id": "92e89c44",
   "metadata": {},
   "source": [
    "## 2. Create an abstract class Shape with method area(). Derive Circle and Rectangle implementing it."
   ]
  },
  {
   "cell_type": "code",
   "execution_count": null,
   "id": "5377c8d4",
   "metadata": {},
   "outputs": [],
   "source": [
    "# Write your code here\n"
   ]
  },
  {
   "cell_type": "markdown",
   "id": "a3500d41",
   "metadata": {},
   "source": [
    "## 3. Multi-level inheritance: Vehicle → Car → ElectricCar."
   ]
  },
  {
   "cell_type": "code",
   "execution_count": null,
   "id": "8afc8641",
   "metadata": {},
   "outputs": [],
   "source": [
    "# Write your code here\n"
   ]
  },
  {
   "cell_type": "markdown",
   "id": "520eb74f",
   "metadata": {},
   "source": [
    "## 4. Polymorphism with Bird base class and derived classes Sparrow and Penguin."
   ]
  },
  {
   "cell_type": "code",
   "execution_count": null,
   "id": "ecf7aff2",
   "metadata": {},
   "outputs": [],
   "source": [
    "# Write your code here\n"
   ]
  },
  {
   "cell_type": "markdown",
   "id": "663f55d2",
   "metadata": {},
   "source": [
    "## 5. Encapsulation: Create class BankAccount with private balance and methods."
   ]
  },
  {
   "cell_type": "code",
   "execution_count": null,
   "id": "b0edb29c",
   "metadata": {},
   "outputs": [],
   "source": [
    "# Write your code here\n"
   ]
  },
  {
   "cell_type": "markdown",
   "id": "1f257d8c",
   "metadata": {},
   "source": [
    "## 6. Runtime polymorphism: Instrument base class and Guitar/Piano classes."
   ]
  },
  {
   "cell_type": "code",
   "execution_count": null,
   "id": "f97fe98c",
   "metadata": {},
   "outputs": [],
   "source": [
    "# Write your code here\n"
   ]
  },
  {
   "cell_type": "markdown",
   "id": "0562d94f",
   "metadata": {},
   "source": [
    "## 7. MathOperations with class method add_numbers and static method subtract_numbers."
   ]
  },
  {
   "cell_type": "code",
   "execution_count": null,
   "id": "2a73e45e",
   "metadata": {},
   "outputs": [],
   "source": [
    "# Write your code here\n"
   ]
  },
  {
   "cell_type": "markdown",
   "id": "17bc8354",
   "metadata": {},
   "source": [
    "## 8. Person class with class method to count total number of persons."
   ]
  },
  {
   "cell_type": "code",
   "execution_count": null,
   "id": "eadffa38",
   "metadata": {},
   "outputs": [],
   "source": [
    "# Write your code here\n"
   ]
  },
  {
   "cell_type": "markdown",
   "id": "2d50ab82",
   "metadata": {},
   "source": [
    "## 9. Fraction class with __str__ overridden."
   ]
  },
  {
   "cell_type": "code",
   "execution_count": null,
   "id": "dcd7c5c3",
   "metadata": {},
   "outputs": [],
   "source": [
    "# Write your code here\n"
   ]
  },
  {
   "cell_type": "markdown",
   "id": "f3ab9bf0",
   "metadata": {},
   "source": [
    "## 10. Operator overloading in Vector class using __add__."
   ]
  },
  {
   "cell_type": "code",
   "execution_count": null,
   "id": "868a2163",
   "metadata": {},
   "outputs": [],
   "source": [
    "# Write your code here\n"
   ]
  },
  {
   "cell_type": "markdown",
   "id": "be88e6dc",
   "metadata": {},
   "source": [
    "## 11. Person class with greet method."
   ]
  },
  {
   "cell_type": "code",
   "execution_count": null,
   "id": "a683845b",
   "metadata": {},
   "outputs": [],
   "source": [
    "# Write your code here\n"
   ]
  },
  {
   "cell_type": "markdown",
   "id": "a44f205f",
   "metadata": {},
   "source": [
    "## 12. Student class with average_grade method."
   ]
  },
  {
   "cell_type": "code",
   "execution_count": null,
   "id": "beae250c",
   "metadata": {},
   "outputs": [],
   "source": [
    "# Write your code here\n"
   ]
  },
  {
   "cell_type": "markdown",
   "id": "be0d4179",
   "metadata": {},
   "source": [
    "## 13. Rectangle class with set_dimensions and area methods."
   ]
  },
  {
   "cell_type": "code",
   "execution_count": null,
   "id": "d7e6fe2b",
   "metadata": {},
   "outputs": [],
   "source": [
    "# Write your code here\n"
   ]
  },
  {
   "cell_type": "markdown",
   "id": "e04467c1",
   "metadata": {},
   "source": [
    "## 14. Employee base class and Manager class with bonus."
   ]
  },
  {
   "cell_type": "code",
   "execution_count": null,
   "id": "88c34538",
   "metadata": {},
   "outputs": [],
   "source": [
    "# Write your code here\n"
   ]
  },
  {
   "cell_type": "markdown",
   "id": "cc2ce034",
   "metadata": {},
   "source": [
    "## 15. Product class with total_price method."
   ]
  },
  {
   "cell_type": "code",
   "execution_count": null,
   "id": "5c579c42",
   "metadata": {},
   "outputs": [],
   "source": [
    "# Write your code here\n"
   ]
  },
  {
   "cell_type": "markdown",
   "id": "6cb520c0",
   "metadata": {},
   "source": [
    "## 16. Animal abstract class with Cow and Sheep implementation."
   ]
  },
  {
   "cell_type": "code",
   "execution_count": null,
   "id": "89f15790",
   "metadata": {},
   "outputs": [],
   "source": [
    "# Write your code here\n"
   ]
  },
  {
   "cell_type": "markdown",
   "id": "b47a4def",
   "metadata": {},
   "source": [
    "## 17. Book class with get_book_info method."
   ]
  },
  {
   "cell_type": "code",
   "execution_count": null,
   "id": "3552e6fd",
   "metadata": {},
   "outputs": [],
   "source": [
    "# Write your code here\n"
   ]
  },
  {
   "cell_type": "markdown",
   "id": "4bbbaa4d",
   "metadata": {},
   "source": [
    "## 18. House class and derived class Mansion with number_of_rooms."
   ]
  },
  {
   "cell_type": "code",
   "execution_count": null,
   "id": "c7682ce3",
   "metadata": {},
   "outputs": [],
   "source": [
    "# Write your code here\n"
   ]
  }
 ],
 "metadata": {},
 "nbformat": 4,
 "nbformat_minor": 5
}
